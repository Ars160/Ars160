{
  "nbformat": 4,
  "nbformat_minor": 0,
  "metadata": {
    "colab": {
      "provenance": [],
      "authorship_tag": "ABX9TyOF3+qi/qwFBMCozjFoHypm",
      "include_colab_link": true
    },
    "kernelspec": {
      "name": "python3",
      "display_name": "Python 3"
    },
    "language_info": {
      "name": "python"
    }
  },
  "cells": [
    {
      "cell_type": "markdown",
      "metadata": {
        "id": "view-in-github",
        "colab_type": "text"
      },
      "source": [
        "<a href=\"https://colab.research.google.com/github/Ars160/Ars160/blob/main/Untitled0.ipynb\" target=\"_parent\"><img src=\"https://colab.research.google.com/assets/colab-badge.svg\" alt=\"Open In Colab\"/></a>"
      ]
    },
    {
      "cell_type": "markdown",
      "source": [
        "Exercise **1**"
      ],
      "metadata": {
        "id": "oSwgmUjeiIlA"
      }
    },
    {
      "cell_type": "code",
      "source": [
        "import numpy as np\n",
        "\n",
        "Resources_Matrix = np.array([[200, 100],\n",
        "                             [150, 250],\n",
        "                             [300, 200]])\n",
        "\n",
        "Allocation_Factors = np.array([[1.1, 0.9],\n",
        "                               [1.0, 1.2]])\n",
        "\n",
        "Total_Resource_Distribution = np.dot(Resources_Matrix, Allocation_Factors)\n",
        "\n",
        "print(Total_Resource_Distribution)"
      ],
      "metadata": {
        "colab": {
          "base_uri": "https://localhost:8080/"
        },
        "id": "_gv1qcXwe1qi",
        "outputId": "c6c53cd7-e237-4ac3-d2ac-ade07c7845ae"
      },
      "execution_count": null,
      "outputs": [
        {
          "output_type": "stream",
          "name": "stdout",
          "text": [
            "[[320. 300.]\n",
            " [415. 435.]\n",
            " [530. 510.]]\n"
          ]
        }
      ]
    },
    {
      "cell_type": "markdown",
      "source": [
        "Exercise 2"
      ],
      "metadata": {
        "id": "ILoPIJA2iWKR"
      }
    },
    {
      "cell_type": "code",
      "source": [
        "Shift_A_Production = np.array([50, 60, 55, 45, 70, 65, 80])\n",
        "Shift_B_Production = np.array([40, 45, 50, 60, 55, 75, 85])\n",
        "\n",
        "Total_Production = np.add(Shift_A_Production,Shift_B_Production)\n",
        "\n",
        "print(Total_Production)"
      ],
      "metadata": {
        "colab": {
          "base_uri": "https://localhost:8080/"
        },
        "id": "ZYARYeVmiYSY",
        "outputId": "59a2078c-c561-4cb8-98fd-474bd1aba4c5"
      },
      "execution_count": null,
      "outputs": [
        {
          "output_type": "stream",
          "name": "stdout",
          "text": [
            "[ 90 105 105 105 125 140 165]\n"
          ]
        }
      ]
    },
    {
      "cell_type": "markdown",
      "source": [
        "Exercise 3"
      ],
      "metadata": {
        "id": "BfnEhgbgjtjA"
      }
    },
    {
      "cell_type": "code",
      "source": [
        "Forecasted_Values = np.array([1.5, -0.2, 2.1, 0.8])  # arbitrary forecast values\n",
        "\n",
        "def sigmoid(x):\n",
        "  return 1/(1+np.exp(-x))\n",
        "\n",
        "SigmoidOutput = sigmoid(Forecasted_Values)\n",
        "\n",
        "print(SigmoidOutput)\n"
      ],
      "metadata": {
        "colab": {
          "base_uri": "https://localhost:8080/"
        },
        "id": "II2OycGkjv4-",
        "outputId": "f94233b4-2754-4539-d7b8-e4643bd0c84f"
      },
      "execution_count": null,
      "outputs": [
        {
          "output_type": "stream",
          "name": "stdout",
          "text": [
            "[0.81757448 0.450166   0.89090318 0.68997448]\n"
          ]
        }
      ]
    },
    {
      "cell_type": "markdown",
      "source": [
        "Exercise 4"
      ],
      "metadata": {
        "id": "gRbb-Fydv73c"
      }
    },
    {
      "cell_type": "code",
      "source": [
        "Sigmoid_Inputs = np.array([0.3, 1.2, -0.7, 1.8])  # arbitrary inputs from a model\n",
        "\n",
        "def sigmoid(x):\n",
        "  return 1/(1+np.exp(-x))\n",
        "\n",
        "def sigmoid_gradient(x):\n",
        "  sig = sigmoid(x)\n",
        "  return sig * (1 - sig)\n",
        "\n",
        "Sigmoid_Gradient = sigmoid_gradient(Sigmoid_Inputs)\n",
        "\n",
        "print(Sigmoid_Gradient)"
      ],
      "metadata": {
        "colab": {
          "base_uri": "https://localhost:8080/"
        },
        "id": "7rvrdLwBv-Ht",
        "outputId": "1106227f-bbf5-45b8-b071-67eee7291292"
      },
      "execution_count": null,
      "outputs": [
        {
          "output_type": "stream",
          "name": "stdout",
          "text": [
            "[0.24445831 0.17789444 0.22171287 0.12172934]\n"
          ]
        }
      ]
    }
  ]
}